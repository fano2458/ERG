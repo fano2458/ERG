{
 "cells": [
  {
   "cell_type": "code",
   "execution_count": 5,
   "id": "b78ca5dc-3ed0-47de-a6ee-a68545c86ae9",
   "metadata": {},
   "outputs": [
    {
     "name": "stdout",
     "output_type": "stream",
     "text": [
      "Shape of output_01-10.csv: (2881, 1964)\n",
      "Shape of output_01-20.csv: (2881, 1964)\n",
      "Shape of output_02-01.csv: (2881, 1964)\n",
      "Shape of concatenated DataFrame: (8643, 1964)\n"
     ]
    }
   ],
   "source": [
    "import os\n",
    "import pandas as pd\n",
    "\n",
    "# Directory path where CSV files are located\n",
    "csv_directory = r'rightbefdataset'\n",
    "\n",
    "# List of specific CSV files you want to concatenate\n",
    "selected_csv_files = ['output_01-10.csv','output_01-20.csv', 'output_02-01.csv']\n",
    "\n",
    "# Filter CSV files to include only the selected ones\n",
    "csv_files = [os.path.join(csv_directory, file) for file in selected_csv_files]\n",
    "\n",
    "# Read each selected CSV file into a DataFrame and print its shape\n",
    "for file in csv_files:\n",
    "    df = pd.read_csv(file)\n",
    "    print(f\"Shape of {os.path.basename(file)}: {df.shape}\")\n",
    "\n",
    "# Read each selected CSV file into a DataFrame\n",
    "dataframes = []\n",
    "for file in csv_files:\n",
    "    df = pd.read_csv(file)\n",
    "    dataframes.append(df)\n",
    "\n",
    "# Concatenate DataFrames into a single DataFrame\n",
    "concatenated_df = pd.concat(dataframes, ignore_index=True)\n",
    "\n",
    "# Print the shape of the final concatenated DataFrame\n",
    "print(f\"Shape of concatenated DataFrame: {concatenated_df.shape}\")\n",
    "\n",
    "# Optionally, save the concatenated DataFrame to a new CSV file\n",
    "concatenated_df.to_csv(r'C:\\Users\\haise\\Desktop\\erg\\conrangedataset\\concatenated_file.csv', index=False)\n"
   ]
  },
  {
   "cell_type": "code",
   "execution_count": 6,
   "id": "8fac5f82-b2d1-44f8-a2c7-a755ccc0bc62",
   "metadata": {},
   "outputs": [
    {
     "name": "stdout",
     "output_type": "stream",
     "text": [
      "Shape of output_02-20.csv: (2593, 1964)\n",
      "Shape of output_03-01.csv: (2881, 1964)\n",
      "Shape of output_03-10.csv: (2881, 1964)\n",
      "Shape of output_03-20.csv: (2879, 1964)\n",
      "Shape of concatenated DataFrame: (11234, 1964)\n"
     ]
    }
   ],
   "source": [
    "import os\n",
    "import pandas as pd\n",
    "\n",
    "# Directory path where CSV files are located\n",
    "csv_directory = r'rightbefdataset'\n",
    "\n",
    "# List of specific CSV files you want to concatenate\n",
    "selected_csv_files = ['output_02-20.csv','output_03-01.csv', 'output_03-10.csv', 'output_03-20.csv']\n",
    "\n",
    "# Filter CSV files to include only the selected ones\n",
    "csv_files = [os.path.join(csv_directory, file) for file in selected_csv_files]\n",
    "\n",
    "# Read each selected CSV file into a DataFrame and print its shape\n",
    "for file in csv_files:\n",
    "    df = pd.read_csv(file)\n",
    "    print(f\"Shape of {os.path.basename(file)}: {df.shape}\")\n",
    "\n",
    "# Read each selected CSV file into a DataFrame\n",
    "dataframes = []\n",
    "for file in csv_files:\n",
    "    df = pd.read_csv(file)\n",
    "    dataframes.append(df)\n",
    "\n",
    "# Concatenate DataFrames into a single DataFrame\n",
    "concatenated_df = pd.concat(dataframes, ignore_index=True)\n",
    "\n",
    "# Print the shape of the final concatenated DataFrame\n",
    "print(f\"Shape of concatenated DataFrame: {concatenated_df.shape}\")\n",
    "\n",
    "# Optionally, save the concatenated DataFrame to a new CSV file\n",
    "concatenated_df.to_csv(r'C:\\Users\\haise\\Desktop\\erg\\conrightbef\\o02.20-03.20.csv', index=False)\n"
   ]
  }
 ],
 "metadata": {
  "kernelspec": {
   "display_name": "Python 3 (ipykernel)",
   "language": "python",
   "name": "python3"
  },
  "language_info": {
   "codemirror_mode": {
    "name": "ipython",
    "version": 3
   },
   "file_extension": ".py",
   "mimetype": "text/x-python",
   "name": "python",
   "nbconvert_exporter": "python",
   "pygments_lexer": "ipython3",
   "version": "3.11.8"
  }
 },
 "nbformat": 4,
 "nbformat_minor": 5
}
